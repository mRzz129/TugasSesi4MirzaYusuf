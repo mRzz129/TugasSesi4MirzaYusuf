{
 "cells": [
  {
   "cell_type": "markdown",
   "metadata": {},
   "source": [
    "<h1>Praktikum Variabel & Tipe Data</h1>\n",
    "\n",
    "<h3>Soal 1</h3>\n",
    "Kiki belanja ke alf$$a M$a$r$t membeli 3 hepitos, 2 silperkuin, telor 2kg, beras 5kg, isi ulang akua galon seharga Rp 13.000. Harga hepitos yaitu Rp 15.000, telor Rp 13.000/kg, silperkuin Rp 21.000 beras kemasan 2.5kg seharga Rp 20.000. Toko tersebut memberikan discount 5%, ketika customer membeli makanan lebih dari 3 jenis. Berapakah total bayar belanjaan dari Kiki?\n"
   ]
  },
  {
   "cell_type": "markdown",
   "metadata": {},
   "source": [
    "<h1>Analyze Here</h1>\n",
    "....."
   ]
  },
  {
   "cell_type": "code",
   "execution_count": 1,
   "metadata": {},
   "outputs": [
    {
     "name": "stdout",
     "output_type": "stream",
     "text": [
      "totalBelanja =  166000\n",
      "totalDiskon =  8300.0\n",
      "totalSetelahDiskon =  157700.0\n"
     ]
    }
   ],
   "source": [
    "#Code here\n",
    "a = hepitos = 15000 * 3\n",
    "b = silperkuin = 21000 * 2\n",
    "c = telor = 13000 * 2\n",
    "d = beras = 20000 * 2\n",
    "e = isiUlangGalon = 13000\n",
    "\n",
    "totalHarga = a + b + c + d + e\n",
    "diskon = totalHarga * 0.05\n",
    "totalSetelahDiskon = totalHarga - diskon\n",
    "print(\"totalBelanja = \", totalHarga)\n",
    "print(\"totalDiskon = \", diskon)\n",
    "print(\"totalSetelahDiskon = \", totalSetelahDiskon)"
   ]
  },
  {
   "cell_type": "markdown",
   "metadata": {},
   "source": [
    "<h3>Soal 2</h3>\n",
    "Roni menabung pada bulan agustus yaitu setiap tanggal ganjil sejumlah Rp 50.000, setiap tanggal genap sejumlah RP 10.000 dan setiap tanggal kelipatan 5 sejumlah Rp 5.000, Berapakah total tabungan Roni diakhir bulan?"
   ]
  },
  {
   "cell_type": "markdown",
   "metadata": {},
   "source": [
    "<h1>Analyze Here</h1>\n",
    "....."
   ]
  },
  {
   "cell_type": "code",
   "execution_count": 2,
   "metadata": {},
   "outputs": [
    {
     "name": "stdout",
     "output_type": "stream",
     "text": [
      "totalTabung :  800000\n"
     ]
    }
   ],
   "source": [
    "#Code here\n",
    "totalHari = 31\n",
    "totalTabung = 0\n",
    "\n",
    "tanggal = 1\n",
    "while(tanggal <= totalHari):\n",
    "    \n",
    "    if(tanggal % 5 == 0):\n",
    "        totalTabung += 5000\n",
    "    elif(tanggal % 2 != 0):\n",
    "        totalTabung += 50000\n",
    "    else :\n",
    "        totalTabung += 10000\n",
    "        \n",
    "    tanggal += 1\n",
    "print(\"totalTabung : \", totalTabung)"
   ]
  },
  {
   "cell_type": "markdown",
   "metadata": {},
   "source": [
    "<h3>Soal 3</h3>\n",
    "Saat hari raya, Deni ingin menukarkan uang sejumlah Rp 5.000.000 ke pecahan 20rb, 10rb, 5rb, 2rb. berapa jumlahnya yang didapatkan Deni jika 20rb maksimal 100, 10rb maksimal 50.Jika :\n",
    "<ol>\n",
    "    <li>3(a)Semua pecahan harus ada</li>\n",
    "    <li>3(b)Hanya pecahan 20rb, 10rb dan 5rb</li>\n",
    "    <li>3(c)Hanya pecahan 20rb, 10rb dan 2rb</li>\n",
    "</ol>"
   ]
  },
  {
   "cell_type": "markdown",
   "metadata": {},
   "source": [
    "<h1>Analyze Here</h1>\n",
    "....."
   ]
  },
  {
   "cell_type": "code",
   "execution_count": 4,
   "metadata": {},
   "outputs": [
    {
     "name": "stdout",
     "output_type": "stream",
     "text": [
      "semua pecahan ada\n",
      "100 lembar 20 rbu =  2000000\n",
      "50 lembar 10 rbu =  500000\n",
      "400 lembar 5 rbu =  2000000\n",
      "250 lembar 2 rbu =  500000\n",
      "totalnya adalah = 5000000\n",
      "hanya pecahan 20rbu, 10rbu dan 5rbu\n",
      "100 lembar 20 rbu = 2000000\n",
      "50 lembar 10 rbu = 500000\n",
      "500 lembar 5 rbu = 2500000\n",
      "totalnya adalah = 5000000\n",
      "hanya pecahan 20rbu, 10rbu dan 2rbu\n",
      "100 lembar 20 rbu = 2000000\n",
      "50 lembar 10 rbu = 500000\n",
      "1250 lembar 2 rbu = 2500000\n",
      "totalnya adalah = 5000000\n"
     ]
    }
   ],
   "source": [
    "#Code here\n",
    "rupiah20 = 20_000 * 100\n",
    "rupiah10 = 10_000 * 50\n",
    "rupiah5 = 5000 * 400\n",
    "rupiah2 = 2000 * 250\n",
    "jumlah3A = rupiah20 + rupiah10 + rupiah5 + rupiah2\n",
    "\n",
    "print(\"semua pecahan ada\")\n",
    "print(\"100 lembar 20 rbu = \",rupiah20)\n",
    "print(\"50 lembar 10 rbu = \",rupiah10)\n",
    "print(\"400 lembar 5 rbu = \",rupiah5)\n",
    "print(\"250 lembar 2 rbu = \",rupiah2)\n",
    "print(\"totalnya adalah =\",jumlah3A)\n",
    "\n",
    "rupiah5_2 = 5000 * 500\n",
    "jumlah3B = rupiah20 + rupiah10 + rupiah5_2\n",
    "print(\"hanya pecahan 20rbu, 10rbu dan 5rbu\")\n",
    "print(\"100 lembar 20 rbu =\",rupiah20)\n",
    "print(\"50 lembar 10 rbu =\",rupiah10)\n",
    "print(\"500 lembar 5 rbu =\",rupiah5_2)\n",
    "print(\"totalnya adalah =\",jumlah3B)\n",
    "\n",
    "rupiah2_2 = 2000 * 1250\n",
    "jumlah3C = rupiah20 + rupiah10 + rupiah2_2\n",
    "print(\"hanya pecahan 20rbu, 10rbu dan 2rbu\")\n",
    "print(\"100 lembar 20 rbu =\",rupiah20)\n",
    "print(\"50 lembar 10 rbu =\",rupiah10)\n",
    "print(\"1250 lembar 2 rbu =\",rupiah2_2)\n",
    "print(\"totalnya adalah =\",jumlah3C)"
   ]
  },
  {
   "cell_type": "markdown",
   "metadata": {},
   "source": [
    "<h3>Soal 4</h3>\n",
    "Berapakah hasil dari (10/23-6+4-(20//3%2)) ?\n",
    "Lakukan analisa perhitungan dari hasil tersebut!\n",
    "Berdasarkan hasil tersebut urutkan operator yang dikerjakan!"
   ]
  },
  {
   "cell_type": "markdown",
   "metadata": {},
   "source": [
    "<h1>Analyze Here</h1>\n",
    "....."
   ]
  },
  {
   "cell_type": "code",
   "execution_count": 5,
   "metadata": {},
   "outputs": [
    {
     "name": "stdout",
     "output_type": "stream",
     "text": [
      "hasil dari (10 / 23 - 6 + 4 - (20 // 3 % 2) =  -1.5652173913043477\n",
      "hasil analisa\n",
      "1. terdapat operator bagi dan kurang = 10 / 23 - 6 =  -5.565217391304348\n",
      "2. terdapat operator pembagian dibulatkan dan sisa bagi = 4 - (20 // 3 % 2) =  4\n",
      "hasil setelah ditambah adalah =  -1.5652173913043477\n"
     ]
    }
   ],
   "source": [
    "#Code here\n",
    "hasil = (10 / 23 - 6 + 4 - (20 // 3 % 2))\n",
    "print(\"hasil dari (10 / 23 - 6 + 4 - (20 // 3 % 2) = \", hasil)\n",
    "print(\"hasil analisa\")\n",
    "\n",
    "operatorBagiKurang = 10 / 23 - 6\n",
    "operatorBagiSisaBagi = 4 - (20 // 3 % 2)\n",
    "print(\"1. terdapat operator bagi dan kurang = 10 / 23 - 6 = \", operatorBagiKurang)\n",
    "print(\"2. terdapat operator pembagian dibulatkan dan sisa bagi = 4 - (20 // 3 % 2) = \", operatorBagiSisaBagi)\n",
    "print(\"hasil setelah ditambah adalah = \", operatorBagiKurang + operatorBagiSisaBagi)\n"
   ]
  },
  {
   "cell_type": "markdown",
   "metadata": {},
   "source": [
    "<h3>Soal 5</h3>\n",
    "Jika terdapat string yaitu \"UFLOPYXTKJACSWRBGQZVDMEHIN\", maka susunlah nama kalian masing-masing dari data tersebut, berdasarkan index dari masing-masing huruf yang ada pada string tersebut!\n"
   ]
  },
  {
   "cell_type": "markdown",
   "metadata": {},
   "source": [
    "<h1>Analyze Here</h1>\n",
    "....."
   ]
  },
  {
   "cell_type": "code",
   "execution_count": 8,
   "metadata": {},
   "outputs": [
    {
     "name": "stdout",
     "output_type": "stream",
     "text": [
      "MIRZA\n"
     ]
    }
   ],
   "source": [
    "huruf = \"UFLOPYXTKJACSWRBGQZVMEHIN\"\n",
    "print(huruf[20]+huruf[23]+huruf[14]+huruf[18]+huruf[10])"
   ]
  },
  {
   "cell_type": "code",
   "execution_count": null,
   "metadata": {},
   "outputs": [],
   "source": []
  }
 ],
 "metadata": {
  "kernelspec": {
   "display_name": "Python 3 (ipykernel)",
   "language": "python",
   "name": "python3"
  },
  "language_info": {
   "codemirror_mode": {
    "name": "ipython",
    "version": 3
   },
   "file_extension": ".py",
   "mimetype": "text/x-python",
   "name": "python",
   "nbconvert_exporter": "python",
   "pygments_lexer": "ipython3",
   "version": "3.9.12"
  }
 },
 "nbformat": 4,
 "nbformat_minor": 4
}
